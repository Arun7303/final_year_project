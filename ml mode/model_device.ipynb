{
 "cells": [
  {
   "cell_type": "code",
   "execution_count": 26,
   "metadata": {},
   "outputs": [],
   "source": [
    "import pandas as pd\n",
    "import dask.dataframe as dd\n",
    "\n",
    "df = dd.read_csv(\"C:/Users/myaka/Desktop/Final_Year_project/data/device.csv\")"
   ]
  },
  {
   "cell_type": "code",
   "execution_count": 24,
   "metadata": {},
   "outputs": [
    {
     "name": "stdout",
     "output_type": "stream",
     "text": [
      "                         id                 date     user       pc  \\\n",
      "0  {Z2Q8-K3AV28BE-9353JIRT}  01/02/2010 07:17:18  SDH2394  PC-5849   \n",
      "1  {C7F1-G7LE60RU-2483DAXS}  01/02/2010 07:22:42  JKS2444  PC-6961   \n",
      "2  {T9A4-D4RV69OF-1704NINW}  01/02/2010 07:31:42  CBA1023  PC-1570   \n",
      "3  {S8L0-O6QQ15NL-0636OYNV}  01/02/2010 07:33:28  GNT0221  PC-6427   \n",
      "4  {U0F1-R1FX27FM-6954TTVU}  01/02/2010 07:33:55  JKS2444  PC-6961   \n",
      "\n",
      "                                           file_tree    activity  \n",
      "0                          R:\\;R:\\22B5gX4;R:\\SDH2394     Connect  \n",
      "1                                     R:\\;R:\\JKS2444     Connect  \n",
      "2  R:\\;R:\\42gY283;R:\\48rr4y2;R:\\59ntt61;R:\\76xCQG...     Connect  \n",
      "3                                     R:\\;R:\\GNT0221     Connect  \n",
      "4                                               <NA>  Disconnect  \n"
     ]
    }
   ],
   "source": [
    "print(df.head())\n"
   ]
  },
  {
   "cell_type": "code",
   "execution_count": 25,
   "metadata": {},
   "outputs": [
    {
     "name": "stdout",
     "output_type": "stream",
     "text": [
      "                              id                date    activity  \\\n",
      "289140  {A0A0-C8SQ42CK-2477BXSG} 2010-12-12 12:54:34  Disconnect   \n",
      "653171  {A0A0-F4VU94RC-0487BQGH} 2010-07-28 03:03:48  Disconnect   \n",
      "689437  {A0A1-D9FE11AT-7598DJHA} 2011-04-30 08:36:26     Connect   \n",
      "473999  {A0A1-O0ON57PK-3129JVST} 2010-05-29 15:41:58     Connect   \n",
      "591049  {A0A2-S5IT49VW-4618HHFG} 2011-03-26 10:08:48  Disconnect   \n",
      "...                          ...                 ...         ...   \n",
      "324368  {Z9Z7-U3AI43IF-4930VPJF} 2010-12-25 15:36:03  Disconnect   \n",
      "383917  {Z9Z7-Y8TU02JE-5072UKER} 2010-05-01 15:56:59     Connect   \n",
      "73828   {Z9Z8-K6AS68QI-5899APZK} 2010-09-30 02:11:44  Disconnect   \n",
      "754475  {Z9Z9-C9ME83QV-8500ANHZ} 2010-08-30 01:17:25     Connect   \n",
      "559764  {Z9Z9-Y1ZB92YK-2297YZAC} 2010-06-27 08:22:10     Connect   \n",
      "\n",
      "        anomaly_score  \n",
      "289140       2.579664  \n",
      "653171       2.818373  \n",
      "689437       3.245137  \n",
      "473999       3.261617  \n",
      "591049       3.138433  \n",
      "...               ...  \n",
      "324368       3.129002  \n",
      "383917       3.261617  \n",
      "73828        3.008704  \n",
      "754475       1.967810  \n",
      "559764       2.466692  \n",
      "\n",
      "[76646 rows x 4 columns]\n"
     ]
    }
   ],
   "source": [
    "import dask.dataframe as dd\n",
    "import pandas as pd\n",
    "import numpy as np\n",
    "from dask_ml.preprocessing import LabelEncoder\n",
    "from sklearn.ensemble import IsolationForest\n",
    "from datetime import datetime\n",
    "\n",
    "\n",
    "# Convert date to datetime format\n",
    "df[\"date\"] = dd.to_datetime(df[\"date\"])\n",
    "\n",
    "# Extract features from timestamp\n",
    "df[\"hour_of_day\"] = df[\"date\"].dt.hour\n",
    "df[\"day_of_week\"] = df[\"date\"].dt.dayofweek  # 0 = Monday, 6 = Sunday\n",
    "df[\"is_weekend\"] = df[\"day_of_week\"].apply(lambda x: 1 if x >= 5 else 0, meta=('x', 'int64'))\n",
    "df[\"is_midnight_activity\"] = df[\"hour_of_day\"].apply(lambda x: 1 if x < 5 else 0, meta=('x', 'int64'))\n",
    "\n",
    "# Compute final dataset before sorting\n",
    "df = df.compute()\n",
    "\n",
    "# Sort by user and timestamp\n",
    "df = df.sort_values([\"id\", \"date\"])\n",
    "\n",
    "# Compute time since last activity\n",
    "df[\"time_since_last_activity\"] = df.groupby(\"id\")[\"date\"].diff().dt.total_seconds().fillna(0)\n",
    "\n",
    "# Apply log transformation to time_since_last_activity\n",
    "df[\"log_time_since_last_activity\"] = np.log1p(df[\"time_since_last_activity\"])\n",
    "\n",
    "# Encode activity types\n",
    "encoder = LabelEncoder()\n",
    "df[\"activity_encoded\"] = encoder.fit_transform(df[\"activity\"])\n",
    "\n",
    "# Select relevant features for anomaly detection\n",
    "features = [\"hour_of_day\", \"day_of_week\", \"is_weekend\", \"is_midnight_activity\", \"log_time_since_last_activity\", \"activity_encoded\"]\n",
    "X = df[features]\n",
    "\n",
    "# Train Isolation Forest for anomaly detection\n",
    "model = IsolationForest(n_estimators=100, contamination=0.1, random_state=42)\n",
    "model.fit(X)  # Fit the model before making predictions\n",
    "df[\"anomaly_score_raw\"] = model.decision_function(X)\n",
    "\n",
    "# Normalize anomaly score using standardization\n",
    "# Normalize anomaly score to a scale of 0 to 10\n",
    "df[\"anomaly_score\"] = ((df[\"anomaly_score_raw\"] - df[\"anomaly_score_raw\"].min()) / \n",
    "                         (df[\"anomaly_score_raw\"].max() - df[\"anomaly_score_raw\"].min())) * 10\n",
    "\n",
    "# Flag anomalies (1: normal, -1: suspicious)\n",
    "df[\"is_anomalous\"] = df[\"anomaly_score_raw\"].map(lambda x: 1 if x < -0.1 else 0)\n",
    "\n",
    "# Print flagged anomalies with scores\n",
    "print(df[df[\"is_anomalous\"] == 1][[\"id\", \"date\", \"activity\", \"anomaly_score\"]])\n"
   ]
  },
  {
   "cell_type": "code",
   "execution_count": 28,
   "metadata": {},
   "outputs": [],
   "source": [
    "import pickle\n",
    "\n",
    "with open(\"anomaly_device.pkl\", \"wb\") as model_file:\n",
    "    pickle.dump(model, model_file)"
   ]
  }
 ],
 "metadata": {
  "kernelspec": {
   "display_name": "Python 3",
   "language": "python",
   "name": "python3"
  },
  "language_info": {
   "codemirror_mode": {
    "name": "ipython",
    "version": 3
   },
   "file_extension": ".py",
   "mimetype": "text/x-python",
   "name": "python",
   "nbconvert_exporter": "python",
   "pygments_lexer": "ipython3",
   "version": "3.12.2"
  }
 },
 "nbformat": 4,
 "nbformat_minor": 2
}
