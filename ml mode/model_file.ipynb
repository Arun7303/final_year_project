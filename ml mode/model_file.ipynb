{
 "cells": [
  {
   "cell_type": "code",
   "execution_count": 2,
   "metadata": {},
   "outputs": [],
   "source": [
    "import pandas as pd\n",
    "import dask.dataframe as dd\n",
    "\n",
    "df = dd.read_csv(\"C:/Users/myaka/Desktop/Final_Year_project/data/file.csv\")"
   ]
  },
  {
   "cell_type": "code",
   "execution_count": 3,
   "metadata": {},
   "outputs": [
    {
     "name": "stdout",
     "output_type": "stream",
     "text": [
      "                         id                 date     user       pc  \\\n",
      "0  {F3E2-X3MV05YQ-3516SZDT}  01/02/2010 07:19:41  SDH2394  PC-5849   \n",
      "1  {I6N1-Z7VL92UY-8715ESKQ}  01/02/2010 07:21:30  SDH2394  PC-5849   \n",
      "2  {G4X5-J7MH70FV-8936QVSB}  01/02/2010 07:22:11  SDH2394  PC-5849   \n",
      "3  {M2M7-Z5ST21EU-6704NSKO}  01/02/2010 07:24:06  SDH2394  PC-5849   \n",
      "4  {R0A9-O9XB25PE-9236MALV}  01/02/2010 07:24:45  SDH2394  PC-5849   \n",
      "\n",
      "                  filename    activity  to_removable_media  \\\n",
      "0          R:\\60WBQE7S.doc   File Open               False   \n",
      "1          R:\\0VGILDW8.pdf  File Write                True   \n",
      "2          R:\\60WBQE7S.doc   File Copy               False   \n",
      "3  R:\\22B5gX4\\H8Y96RRE.doc  File Write                True   \n",
      "4  R:\\SDH2394\\7XRCV2N5.pdf   File Copy                True   \n",
      "\n",
      "   from_removable_media                                            content  \n",
      "0                  True  D0-CF-11-E0-A1-B1-1A-E1 Ernesztin's brother, L...  \n",
      "1                 False  25-50-44-46-2D ---- Bengali As do many other T...  \n",
      "2                  True  D0-CF-11-E0-A1-B1-1A-E1 Ernesztin's brother, L...  \n",
      "3                 False  D0-CF-11-E0-A1-B1-1A-E1 After the death of his...  \n",
      "4                 False  25-50-44-46-2D Although he restored some of th...  \n"
     ]
    }
   ],
   "source": [
    "print(df.head())\n"
   ]
  },
  {
   "cell_type": "code",
   "execution_count": 6,
   "metadata": {},
   "outputs": [],
   "source": [
    "import dask.dataframe as dd\n",
    "import pandas as pd\n",
    "import numpy as np\n",
    "from sklearn.preprocessing import LabelEncoder\n",
    "from sklearn.ensemble import IsolationForest\n",
    "\n",
    "# Ensure 'date' column is parsed as datetime\n",
    "df['date'] = dd.to_datetime(df['date'], errors='coerce')\n",
    "\n",
    "\n",
    "df['activity_new'] = df['activity'].map_partitions(lambda x: x.astype('category').cat.codes, meta=('activity', 'int64'))\n",
    "\n",
    "\n",
    "# Encode boolean features\n",
    "encoder = LabelEncoder()\n",
    "df['to_removable_media_new'] = df['to_removable_media'].map_partitions(encoder.fit_transform, meta=('to_removable_media', 'int64'))\n",
    "df['from_removable_media_new'] = df['from_removable_media'].map_partitions(encoder.fit_transform, meta=('from_removable_media', 'int64'))\n",
    "\n",
    "# Extract datetime features\n",
    "df['hour'] = df['date'].dt.hour\n",
    "\n",
    "df_new = df[['activity_new', 'to_removable_media_new', 'from_removable_media_new', 'hour']]\n",
    "\n",
    "# Convert Dask dataframe to Pandas for model training\n",
    "df_new = df_new.compute()\n",
    "\n",
    "# Train Isolation Forest for anomaly detection\n",
    "iso_forest = IsolationForest(contamination=0.05, random_state=42)\n",
    "df_new['anomaly_score'] = iso_forest.fit_predict(df_new)\n",
    "\n",
    "# Detect anomalies\n",
    "df_new['is_anomaly'] = df_new['anomaly_score'].apply(lambda x: 1 if x == -1 else 0)\n",
    "\n",
    "# Save results\n",
    "\n",
    "\n",
    "\n"
   ]
  },
  {
   "cell_type": "code",
   "execution_count": 8,
   "metadata": {},
   "outputs": [
    {
     "name": "stdout",
     "output_type": "stream",
     "text": [
      "        activity_new  to_removable_media_new  from_removable_media_new  hour  \\\n",
      "0                  2                       0                         1     7   \n",
      "1                  3                       1                         0     7   \n",
      "3                  3                       1                         0     7   \n",
      "4                  0                       1                         0     7   \n",
      "6                  3                       1                         0     7   \n",
      "...              ...                     ...                       ...   ...   \n",
      "101330             1                       0                         1    23   \n",
      "101331             2                       0                         1    23   \n",
      "101332             2                       0                         1    23   \n",
      "101333             2                       0                         1    23   \n",
      "101334             1                       0                         1    23   \n",
      "\n",
      "        anomaly_score  is_anomaly  \n",
      "0                  -1           1  \n",
      "1                  -1           1  \n",
      "3                  -1           1  \n",
      "4                  -1           1  \n",
      "6                  -1           1  \n",
      "...               ...         ...  \n",
      "101330             -1           1  \n",
      "101331             -1           1  \n",
      "101332             -1           1  \n",
      "101333             -1           1  \n",
      "101334             -1           1  \n",
      "\n",
      "[98443 rows x 6 columns]\n"
     ]
    }
   ],
   "source": [
    "print(df_new[df_new['is_anomaly'] == 1])  # Print only anomalous rows\n"
   ]
  },
  {
   "cell_type": "code",
   "execution_count": 11,
   "metadata": {},
   "outputs": [
    {
     "name": "stdout",
     "output_type": "stream",
     "text": [
      "                         id                date     user       pc  \\\n",
      "0  {F3E2-X3MV05YQ-3516SZDT} 2010-01-02 07:19:41  SDH2394  PC-5849   \n",
      "0  {F3E2-X3MV05YQ-3516SZDT} 2010-01-02 07:19:41  SDH2394  PC-5849   \n",
      "0  {F3E2-X3MV05YQ-3516SZDT} 2010-01-02 07:19:41  SDH2394  PC-5849   \n",
      "0  {F3E2-X3MV05YQ-3516SZDT} 2010-01-02 07:19:41  SDH2394  PC-5849   \n",
      "0  {F3E2-X3MV05YQ-3516SZDT} 2010-01-02 07:19:41  SDH2394  PC-5849   \n",
      "\n",
      "          filename   activity  to_removable_media  from_removable_media  \\\n",
      "0  R:\\60WBQE7S.doc  File Open               False                  True   \n",
      "0  R:\\60WBQE7S.doc  File Open               False                  True   \n",
      "0  R:\\60WBQE7S.doc  File Open               False                  True   \n",
      "0  R:\\60WBQE7S.doc  File Open               False                  True   \n",
      "0  R:\\60WBQE7S.doc  File Open               False                  True   \n",
      "\n",
      "                                             content  activity_new  \\\n",
      "0  D0-CF-11-E0-A1-B1-1A-E1 Ernesztin's brother, L...             2   \n",
      "0  D0-CF-11-E0-A1-B1-1A-E1 Ernesztin's brother, L...             2   \n",
      "0  D0-CF-11-E0-A1-B1-1A-E1 Ernesztin's brother, L...             2   \n",
      "0  D0-CF-11-E0-A1-B1-1A-E1 Ernesztin's brother, L...             2   \n",
      "0  D0-CF-11-E0-A1-B1-1A-E1 Ernesztin's brother, L...             2   \n",
      "\n",
      "   to_removable_media_new  from_removable_media_new  hour  anomaly_score  \\\n",
      "0                       0                         1     7             -1   \n",
      "0                       0                         1     7              1   \n",
      "0                       0                         1     7              1   \n",
      "0                       0                         1     7              1   \n",
      "0                       0                         1     7              1   \n",
      "\n",
      "   is_anomaly  \n",
      "0           1  \n",
      "0           0  \n",
      "0           0  \n",
      "0           0  \n",
      "0           0  \n"
     ]
    }
   ],
   "source": [
    "df_graph = df.merge(df_new[['anomaly_score', 'is_anomaly']], left_index=True, right_index=True)\n",
    "print(df_graph.head())\n"
   ]
  },
  {
   "cell_type": "code",
   "execution_count": 16,
   "metadata": {},
   "outputs": [],
   "source": [
    "import pickle\n",
    "\n",
    "with open(\"anomaly_file.pkl\", \"wb\") as model_file:\n",
    "    pickle.dump(iso_forest, model_file)"
   ]
  }
 ],
 "metadata": {
  "kernelspec": {
   "display_name": "Python 3",
   "language": "python",
   "name": "python3"
  },
  "language_info": {
   "codemirror_mode": {
    "name": "ipython",
    "version": 3
   },
   "file_extension": ".py",
   "mimetype": "text/x-python",
   "name": "python",
   "nbconvert_exporter": "python",
   "pygments_lexer": "ipython3",
   "version": "3.12.2"
  }
 },
 "nbformat": 4,
 "nbformat_minor": 2
}
